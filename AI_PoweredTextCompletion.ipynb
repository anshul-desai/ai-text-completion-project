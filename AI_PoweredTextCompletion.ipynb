{
  "nbformat": 4,
  "nbformat_minor": 0,
  "metadata": {
    "colab": {
      "provenance": []
    },
    "kernelspec": {
      "name": "python3",
      "display_name": "Python 3"
    },
    "language_info": {
      "name": "python"
    }
  },
  "cells": [
    {
      "cell_type": "code",
      "execution_count": null,
      "metadata": {
        "id": "uOstQic-iMJZ"
      },
      "outputs": [],
      "source": [
        "pip install openai"
      ]
    },
    {
      "cell_type": "code",
      "source": [
        "import os\n",
        "import openai\n",
        "\n",
        "openai.api_key = os.getenv(\"OPENAI_API_KEY\")"
      ],
      "metadata": {
        "id": "NrLI5pomiUQG"
      },
      "execution_count": null,
      "outputs": []
    },
    {
      "cell_type": "code",
      "source": [
        "import openai\n",
        "import os\n",
        "\n",
        "openai.api_key = os.getenv(\"OPENAI_API_KEY\")\n",
        "\n",
        "def get_completion(prompt, temperature=0.7, max_tokens=100):\n",
        "    try:\n",
        "        response = openai.Completion.create(\n",
        "            model=\"text-davinci-003\",\n",
        "            prompt=prompt,\n",
        "            temperature=temperature,\n",
        "            max_tokens=max_tokens\n",
        "        )\n",
        "        return response.choices[0].text.strip()\n",
        "    except Exception as e:\n",
        "        return f\"Error: {str(e)}\"\n",
        "\n",
        "while True:\n",
        "    prompt = input(\"Enter a prompt (or type 'exit'): \").strip()\n",
        "    if prompt.lower() == 'exit':\n",
        "        break\n",
        "    elif not prompt:\n",
        "        print(\"Prompt cannot be empty.\")\n",
        "        continue\n",
        "    output = get_completion(prompt)\n",
        "    print(f\"\\nResponse:\\n{output}\\n\")"
      ],
      "metadata": {
        "id": "Y0xzfPE_iWn2"
      },
      "execution_count": null,
      "outputs": []
    },
    {
      "cell_type": "code",
      "source": [
        "temp = float(input(\"Set temperature (0.0 - 1.0): \"))\n",
        "tokens = int(input(\"Max tokens: \"))\n",
        "response = get_completion(prompt, temperature=temp, max_tokens=tokens)"
      ],
      "metadata": {
        "id": "akXVWyrCiZwX"
      },
      "execution_count": null,
      "outputs": []
    }
  ]
}